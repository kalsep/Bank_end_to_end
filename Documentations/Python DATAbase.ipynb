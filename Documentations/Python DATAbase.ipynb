{
 "cells": [
  {
   "cell_type": "markdown",
   "id": "88de8e73",
   "metadata": {},
   "source": [
    "https://www.freecodecamp.org/news/connect-python-with-sql/"
   ]
  },
  {
   "cell_type": "markdown",
   "id": "928f1614",
   "metadata": {},
   "source": [
    "We will be using MySQL Community Server as it is free and widely used in the industry. If you are using Windows, this guide will help you get set up. Here are guides for Mac and Linux users too (although it may vary by Linux distribution).\n",
    "\n",
    "Once you have those set up, we will need to get them to communicate with each other.\n",
    "\n",
    "For that, we need to install the MySQL Connector Python library. To do this, follow the instructions, or just use pip:"
   ]
  },
  {
   "cell_type": "raw",
   "id": "e584b43b",
   "metadata": {},
   "source": [
    "pip install mysql-connector-python"
   ]
  },
  {
   "cell_type": "markdown",
   "id": "98bee546",
   "metadata": {},
   "source": [
    "We are also going to be using pandas, so make sure that you have that installed as well."
   ]
  },
  {
   "cell_type": "raw",
   "id": "40228dcd",
   "metadata": {},
   "source": [
    "pip install pandas"
   ]
  },
  {
   "cell_type": "code",
   "execution_count": 1,
   "id": "c4563657",
   "metadata": {},
   "outputs": [],
   "source": [
    "import mysql.connector\n",
    "from mysql.connector import Error\n",
    "import pandas as pd"
   ]
  },
  {
   "cell_type": "code",
   "execution_count": 2,
   "id": "56d7e3ca",
   "metadata": {},
   "outputs": [],
   "source": [
    "def create_server_connection(host_name, username, user_password):\n",
    "    connection=None\n",
    "    try:\n",
    "        connection = mysql.connector.connect(\n",
    "        host=host_name,\n",
    "        user = username,\n",
    "        passwd = user_password)\n",
    "        print(\"Connestion established...!\")\n",
    "    except Error as e:\n",
    "        print(f\"Error is {e}\")\n",
    "        \n",
    "    return connection"
   ]
  },
  {
   "cell_type": "code",
   "execution_count": 8,
   "id": "9e044d63",
   "metadata": {},
   "outputs": [
    {
     "name": "stdout",
     "output_type": "stream",
     "text": [
      "Error is 1698 (28000): Access denied for user 'root'@'localhost'\n"
     ]
    }
   ],
   "source": [
    "connection = create_server_connection(\"localhost\", \"root\", \"123\")"
   ]
  },
  {
   "cell_type": "code",
   "execution_count": null,
   "id": "b2d86f3a",
   "metadata": {},
   "outputs": [],
   "source": []
  }
 ],
 "metadata": {
  "kernelspec": {
   "display_name": "bank_end_to_end",
   "language": "python",
   "name": "bank_end_to_end"
  },
  "language_info": {
   "codemirror_mode": {
    "name": "ipython",
    "version": 3
   },
   "file_extension": ".py",
   "mimetype": "text/x-python",
   "name": "python",
   "nbconvert_exporter": "python",
   "pygments_lexer": "ipython3",
   "version": "3.11.2"
  }
 },
 "nbformat": 4,
 "nbformat_minor": 5
}
